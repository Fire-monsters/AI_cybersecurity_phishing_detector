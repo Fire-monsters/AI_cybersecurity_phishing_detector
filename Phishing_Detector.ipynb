{
  "nbformat": 4,
  "nbformat_minor": 0,
  "metadata": {
    "colab": {
      "provenance": [],
      "gpuType": "T4",
      "mount_file_id": "1sD0UyeNOsp1byyFqqrDKWN3NA_CDn4ry",
      "authorship_tag": "ABX9TyOnGK+WAPCmgzngI7r1TWsZ",
      "include_colab_link": true
    },
    "kernelspec": {
      "name": "python3",
      "display_name": "Python 3"
    },
    "language_info": {
      "name": "python"
    },
    "accelerator": "GPU"
  },
  "cells": [
    {
      "cell_type": "markdown",
      "metadata": {
        "id": "view-in-github",
        "colab_type": "text"
      },
      "source": [
        "<a href=\"https://colab.research.google.com/github/Fire-monsters/AI_cybersecurity_phishing_detector/blob/main/Phishing_Detector.ipynb\" target=\"_parent\"><img src=\"https://colab.research.google.com/assets/colab-badge.svg\" alt=\"Open In Colab\"/></a>"
      ]
    },
    {
      "cell_type": "code",
      "source": [
        "## Enhancing cybersecurity with artificial intelligence project.."
      ],
      "metadata": {
        "id": "QGu4wtkUgxjV"
      },
      "execution_count": 1,
      "outputs": []
    },
    {
      "cell_type": "markdown",
      "source": [
        "# Google Colab Setup & Data Pipeline\n"
      ],
      "metadata": {
        "id": "75sDeURUOlFV"
      }
    },
    {
      "cell_type": "code",
      "execution_count": 2,
      "metadata": {
        "colab": {
          "base_uri": "https://localhost:8080/"
        },
        "id": "H_yw6GYTfymS",
        "outputId": "cda822e4-82b0-4f8d-f5ed-58584a3afcc9",
        "collapsed": true
      },
      "outputs": [
        {
          "output_type": "stream",
          "name": "stdout",
          "text": [
            "Collecting scikit-learn==1.4.2\n",
            "  Using cached scikit_learn-1.4.2-cp311-cp311-manylinux_2_17_x86_64.manylinux2014_x86_64.whl.metadata (11 kB)\n",
            "Requirement already satisfied: pandas==2.2.2 in /usr/local/lib/python3.11/dist-packages (2.2.2)\n",
            "Requirement already satisfied: numpy==2.0.0 in /usr/local/lib/python3.11/dist-packages (2.0.0)\n",
            "Requirement already satisfied: requests==2.32.3 in /usr/local/lib/python3.11/dist-packages (2.32.3)\n",
            "Requirement already satisfied: beautifulsoup4==4.12.3 in /usr/local/lib/python3.11/dist-packages (4.12.3)\n",
            "Requirement already satisfied: tldextract==5.1.1 in /usr/local/lib/python3.11/dist-packages (5.1.1)\n",
            "Requirement already satisfied: joblib==1.3.2 in /usr/local/lib/python3.11/dist-packages (1.3.2)\n",
            "Requirement already satisfied: scipy>=1.6.0 in /usr/local/lib/python3.11/dist-packages (from scikit-learn==1.4.2) (1.15.3)\n",
            "Requirement already satisfied: threadpoolctl>=2.0.0 in /usr/local/lib/python3.11/dist-packages (from scikit-learn==1.4.2) (3.6.0)\n",
            "Requirement already satisfied: python-dateutil>=2.8.2 in /usr/local/lib/python3.11/dist-packages (from pandas==2.2.2) (2.9.0.post0)\n",
            "Requirement already satisfied: pytz>=2020.1 in /usr/local/lib/python3.11/dist-packages (from pandas==2.2.2) (2025.2)\n",
            "Requirement already satisfied: tzdata>=2022.7 in /usr/local/lib/python3.11/dist-packages (from pandas==2.2.2) (2025.2)\n",
            "Requirement already satisfied: charset-normalizer<4,>=2 in /usr/local/lib/python3.11/dist-packages (from requests==2.32.3) (3.4.2)\n",
            "Requirement already satisfied: idna<4,>=2.5 in /usr/local/lib/python3.11/dist-packages (from requests==2.32.3) (3.10)\n",
            "Requirement already satisfied: urllib3<3,>=1.21.1 in /usr/local/lib/python3.11/dist-packages (from requests==2.32.3) (2.4.0)\n",
            "Requirement already satisfied: certifi>=2017.4.17 in /usr/local/lib/python3.11/dist-packages (from requests==2.32.3) (2025.6.15)\n",
            "Requirement already satisfied: soupsieve>1.2 in /usr/local/lib/python3.11/dist-packages (from beautifulsoup4==4.12.3) (2.7)\n",
            "Requirement already satisfied: requests-file>=1.4 in /usr/local/lib/python3.11/dist-packages (from tldextract==5.1.1) (2.1.0)\n",
            "Requirement already satisfied: filelock>=3.0.8 in /usr/local/lib/python3.11/dist-packages (from tldextract==5.1.1) (3.18.0)\n",
            "Requirement already satisfied: six>=1.5 in /usr/local/lib/python3.11/dist-packages (from python-dateutil>=2.8.2->pandas==2.2.2) (1.17.0)\n",
            "Using cached scikit_learn-1.4.2-cp311-cp311-manylinux_2_17_x86_64.manylinux2014_x86_64.whl (12.1 MB)\n",
            "Installing collected packages: scikit-learn\n",
            "  Attempting uninstall: scikit-learn\n",
            "    Found existing installation: scikit-learn 1.6.0\n",
            "    Uninstalling scikit-learn-1.6.0:\n",
            "      Successfully uninstalled scikit-learn-1.6.0\n",
            "\u001b[31mERROR: pip's dependency resolver does not currently take into account all the packages that are installed. This behaviour is the source of the following dependency conflicts.\n",
            "umap-learn 0.5.8 requires scikit-learn>=1.6, but you have scikit-learn 1.4.2 which is incompatible.\u001b[0m\u001b[31m\n",
            "\u001b[0mSuccessfully installed scikit-learn-1.4.2\n"
          ]
        }
      ],
      "source": [
        "# Install core libraries\n",
        "!pip install scikit-learn==1.4.2 pandas==2.2.2 numpy==2.0.0 requests==2.32.3 beautifulsoup4==4.12.3 tldextract==5.1.1 joblib==1.3.2"
      ]
    },
    {
      "cell_type": "code",
      "source": [
        "!pip install scikit-learn==1.6"
      ],
      "metadata": {
        "colab": {
          "base_uri": "https://localhost:8080/"
        },
        "collapsed": true,
        "id": "9ED247u4zYy_",
        "outputId": "77529b73-e87a-487a-f5df-49448bdbe2f9"
      },
      "execution_count": 3,
      "outputs": [
        {
          "output_type": "stream",
          "name": "stdout",
          "text": [
            "Collecting scikit-learn==1.6\n",
            "  Using cached scikit_learn-1.6.0-cp311-cp311-manylinux_2_17_x86_64.manylinux2014_x86_64.whl.metadata (18 kB)\n",
            "Requirement already satisfied: numpy>=1.19.5 in /usr/local/lib/python3.11/dist-packages (from scikit-learn==1.6) (2.0.0)\n",
            "Requirement already satisfied: scipy>=1.6.0 in /usr/local/lib/python3.11/dist-packages (from scikit-learn==1.6) (1.15.3)\n",
            "Requirement already satisfied: joblib>=1.2.0 in /usr/local/lib/python3.11/dist-packages (from scikit-learn==1.6) (1.3.2)\n",
            "Requirement already satisfied: threadpoolctl>=3.1.0 in /usr/local/lib/python3.11/dist-packages (from scikit-learn==1.6) (3.6.0)\n",
            "Using cached scikit_learn-1.6.0-cp311-cp311-manylinux_2_17_x86_64.manylinux2014_x86_64.whl (13.5 MB)\n",
            "Installing collected packages: scikit-learn\n",
            "  Attempting uninstall: scikit-learn\n",
            "    Found existing installation: scikit-learn 1.4.2\n",
            "    Uninstalling scikit-learn-1.4.2:\n",
            "      Successfully uninstalled scikit-learn-1.4.2\n",
            "Successfully installed scikit-learn-1.6.0\n"
          ]
        }
      ]
    },
    {
      "cell_type": "code",
      "source": [
        "# provide utilities for inspecting and managing PCI (Peripheral Component Interconnect) devices\n",
        "!sudo apt-get install pciutils"
      ],
      "metadata": {
        "colab": {
          "base_uri": "https://localhost:8080/"
        },
        "collapsed": true,
        "id": "co9MHkNCu-Ie",
        "outputId": "09a53237-342e-41ce-ddfa-28316e8af4b0"
      },
      "execution_count": 4,
      "outputs": [
        {
          "output_type": "stream",
          "name": "stdout",
          "text": [
            "Reading package lists... Done\n",
            "Building dependency tree... Done\n",
            "Reading state information... Done\n",
            "The following additional packages will be installed:\n",
            "  libpci3 pci.ids\n",
            "The following NEW packages will be installed:\n",
            "  libpci3 pci.ids pciutils\n",
            "0 upgraded, 3 newly installed, 0 to remove and 35 not upgraded.\n",
            "Need to get 343 kB of archives.\n",
            "After this operation, 1,581 kB of additional disk space will be used.\n",
            "Get:1 http://archive.ubuntu.com/ubuntu jammy-updates/main amd64 pci.ids all 0.0~2022.01.22-1ubuntu0.1 [251 kB]\n",
            "Get:2 http://archive.ubuntu.com/ubuntu jammy/main amd64 libpci3 amd64 1:3.7.0-6 [28.9 kB]\n",
            "Get:3 http://archive.ubuntu.com/ubuntu jammy/main amd64 pciutils amd64 1:3.7.0-6 [63.6 kB]\n",
            "Fetched 343 kB in 1s (263 kB/s)\n",
            "debconf: unable to initialize frontend: Dialog\n",
            "debconf: (No usable dialog-like program is installed, so the dialog based frontend cannot be used. at /usr/share/perl5/Debconf/FrontEnd/Dialog.pm line 78, <> line 3.)\n",
            "debconf: falling back to frontend: Readline\n",
            "debconf: unable to initialize frontend: Readline\n",
            "debconf: (This frontend requires a controlling tty.)\n",
            "debconf: falling back to frontend: Teletype\n",
            "dpkg-preconfigure: unable to re-open stdin: \n",
            "Selecting previously unselected package pci.ids.\n",
            "(Reading database ... 126308 files and directories currently installed.)\n",
            "Preparing to unpack .../pci.ids_0.0~2022.01.22-1ubuntu0.1_all.deb ...\n",
            "Unpacking pci.ids (0.0~2022.01.22-1ubuntu0.1) ...\n",
            "Selecting previously unselected package libpci3:amd64.\n",
            "Preparing to unpack .../libpci3_1%3a3.7.0-6_amd64.deb ...\n",
            "Unpacking libpci3:amd64 (1:3.7.0-6) ...\n",
            "Selecting previously unselected package pciutils.\n",
            "Preparing to unpack .../pciutils_1%3a3.7.0-6_amd64.deb ...\n",
            "Unpacking pciutils (1:3.7.0-6) ...\n",
            "Setting up pci.ids (0.0~2022.01.22-1ubuntu0.1) ...\n",
            "Setting up libpci3:amd64 (1:3.7.0-6) ...\n",
            "Setting up pciutils (1:3.7.0-6) ...\n",
            "Processing triggers for man-db (2.10.2-1) ...\n",
            "Processing triggers for libc-bin (2.35-0ubuntu3.8) ...\n",
            "/sbin/ldconfig.real: /usr/local/lib/libtcm_debug.so.1 is not a symbolic link\n",
            "\n",
            "/sbin/ldconfig.real: /usr/local/lib/libtbb.so.12 is not a symbolic link\n",
            "\n",
            "/sbin/ldconfig.real: /usr/local/lib/libhwloc.so.15 is not a symbolic link\n",
            "\n",
            "/sbin/ldconfig.real: /usr/local/lib/libtcm.so.1 is not a symbolic link\n",
            "\n",
            "/sbin/ldconfig.real: /usr/local/lib/libur_adapter_level_zero.so.0 is not a symbolic link\n",
            "\n",
            "/sbin/ldconfig.real: /usr/local/lib/libtbbbind_2_0.so.3 is not a symbolic link\n",
            "\n",
            "/sbin/ldconfig.real: /usr/local/lib/libur_adapter_opencl.so.0 is not a symbolic link\n",
            "\n",
            "/sbin/ldconfig.real: /usr/local/lib/libumf.so.0 is not a symbolic link\n",
            "\n",
            "/sbin/ldconfig.real: /usr/local/lib/libur_loader.so.0 is not a symbolic link\n",
            "\n",
            "/sbin/ldconfig.real: /usr/local/lib/libtbbmalloc_proxy.so.2 is not a symbolic link\n",
            "\n",
            "/sbin/ldconfig.real: /usr/local/lib/libtbbbind.so.3 is not a symbolic link\n",
            "\n",
            "/sbin/ldconfig.real: /usr/local/lib/libur_adapter_level_zero_v2.so.0 is not a symbolic link\n",
            "\n",
            "/sbin/ldconfig.real: /usr/local/lib/libtbbbind_2_5.so.3 is not a symbolic link\n",
            "\n",
            "/sbin/ldconfig.real: /usr/local/lib/libtbbmalloc.so.2 is not a symbolic link\n",
            "\n"
          ]
        }
      ]
    },
    {
      "cell_type": "code",
      "source": [
        "# Add cybersecurity-specific tools\n",
        "!pip install httpx==0.28.1\n",
        "!pip install ollama==0.4.3  # For LLM-assisted analysis :cite[2]\n",
        "!curl -fsSL https://ollama.ai/install.sh | sh  # Initialize Ollama"
      ],
      "metadata": {
        "colab": {
          "base_uri": "https://localhost:8080/"
        },
        "collapsed": true,
        "id": "PeeZdmYXlxF1",
        "outputId": "6b357663-572d-40ae-94b1-2c15654357e1"
      },
      "execution_count": 5,
      "outputs": [
        {
          "output_type": "stream",
          "name": "stdout",
          "text": [
            "Requirement already satisfied: httpx==0.28.1 in /usr/local/lib/python3.11/dist-packages (0.28.1)\n",
            "Requirement already satisfied: anyio in /usr/local/lib/python3.11/dist-packages (from httpx==0.28.1) (4.9.0)\n",
            "Requirement already satisfied: certifi in /usr/local/lib/python3.11/dist-packages (from httpx==0.28.1) (2025.6.15)\n",
            "Requirement already satisfied: httpcore==1.* in /usr/local/lib/python3.11/dist-packages (from httpx==0.28.1) (1.0.9)\n",
            "Requirement already satisfied: idna in /usr/local/lib/python3.11/dist-packages (from httpx==0.28.1) (3.10)\n",
            "Requirement already satisfied: h11>=0.16 in /usr/local/lib/python3.11/dist-packages (from httpcore==1.*->httpx==0.28.1) (0.16.0)\n",
            "Requirement already satisfied: sniffio>=1.1 in /usr/local/lib/python3.11/dist-packages (from anyio->httpx==0.28.1) (1.3.1)\n",
            "Requirement already satisfied: typing_extensions>=4.5 in /usr/local/lib/python3.11/dist-packages (from anyio->httpx==0.28.1) (4.14.0)\n",
            "Collecting ollama==0.4.3\n",
            "  Downloading ollama-0.4.3-py3-none-any.whl.metadata (4.7 kB)\n",
            "Collecting httpx<0.28.0,>=0.27.0 (from ollama==0.4.3)\n",
            "  Downloading httpx-0.27.2-py3-none-any.whl.metadata (7.1 kB)\n",
            "Requirement already satisfied: pydantic<3.0.0,>=2.9.0 in /usr/local/lib/python3.11/dist-packages (from ollama==0.4.3) (2.11.7)\n",
            "Requirement already satisfied: anyio in /usr/local/lib/python3.11/dist-packages (from httpx<0.28.0,>=0.27.0->ollama==0.4.3) (4.9.0)\n",
            "Requirement already satisfied: certifi in /usr/local/lib/python3.11/dist-packages (from httpx<0.28.0,>=0.27.0->ollama==0.4.3) (2025.6.15)\n",
            "Requirement already satisfied: httpcore==1.* in /usr/local/lib/python3.11/dist-packages (from httpx<0.28.0,>=0.27.0->ollama==0.4.3) (1.0.9)\n",
            "Requirement already satisfied: idna in /usr/local/lib/python3.11/dist-packages (from httpx<0.28.0,>=0.27.0->ollama==0.4.3) (3.10)\n",
            "Requirement already satisfied: sniffio in /usr/local/lib/python3.11/dist-packages (from httpx<0.28.0,>=0.27.0->ollama==0.4.3) (1.3.1)\n",
            "Requirement already satisfied: h11>=0.16 in /usr/local/lib/python3.11/dist-packages (from httpcore==1.*->httpx<0.28.0,>=0.27.0->ollama==0.4.3) (0.16.0)\n",
            "Requirement already satisfied: annotated-types>=0.6.0 in /usr/local/lib/python3.11/dist-packages (from pydantic<3.0.0,>=2.9.0->ollama==0.4.3) (0.7.0)\n",
            "Requirement already satisfied: pydantic-core==2.33.2 in /usr/local/lib/python3.11/dist-packages (from pydantic<3.0.0,>=2.9.0->ollama==0.4.3) (2.33.2)\n",
            "Requirement already satisfied: typing-extensions>=4.12.2 in /usr/local/lib/python3.11/dist-packages (from pydantic<3.0.0,>=2.9.0->ollama==0.4.3) (4.14.0)\n",
            "Requirement already satisfied: typing-inspection>=0.4.0 in /usr/local/lib/python3.11/dist-packages (from pydantic<3.0.0,>=2.9.0->ollama==0.4.3) (0.4.1)\n",
            "Downloading ollama-0.4.3-py3-none-any.whl (13 kB)\n",
            "Downloading httpx-0.27.2-py3-none-any.whl (76 kB)\n",
            "\u001b[2K   \u001b[90m━━━━━━━━━━━━━━━━━━━━━━━━━━━━━━━━━━━━━━━━\u001b[0m \u001b[32m76.4/76.4 kB\u001b[0m \u001b[31m2.8 MB/s\u001b[0m eta \u001b[36m0:00:00\u001b[0m\n",
            "\u001b[?25hInstalling collected packages: httpx, ollama\n",
            "  Attempting uninstall: httpx\n",
            "    Found existing installation: httpx 0.28.1\n",
            "    Uninstalling httpx-0.28.1:\n",
            "      Successfully uninstalled httpx-0.28.1\n",
            "\u001b[31mERROR: pip's dependency resolver does not currently take into account all the packages that are installed. This behaviour is the source of the following dependency conflicts.\n",
            "firebase-admin 6.9.0 requires httpx[http2]==0.28.1, but you have httpx 0.27.2 which is incompatible.\n",
            "google-genai 1.23.0 requires httpx<1.0.0,>=0.28.1, but you have httpx 0.27.2 which is incompatible.\u001b[0m\u001b[31m\n",
            "\u001b[0mSuccessfully installed httpx-0.27.2 ollama-0.4.3\n",
            ">>> Installing ollama to /usr/local\n",
            ">>> Downloading Linux amd64 bundle\n",
            "######################################################################## 100.0%\n",
            ">>> Creating ollama user...\n",
            ">>> Adding ollama user to video group...\n",
            ">>> Adding current user to ollama group...\n",
            ">>> Creating ollama systemd service...\n",
            "\u001b[1m\u001b[31mWARNING:\u001b[m systemd is not running\n",
            ">>> NVIDIA GPU installed.\n",
            ">>> The Ollama API is now available at 127.0.0.1:11434.\n",
            ">>> Install complete. Run \"ollama\" from the command line.\n"
          ]
        }
      ]
    },
    {
      "cell_type": "code",
      "source": [
        "# Verify GPU access\n",
        "import torch\n",
        "print(f\"GPU available: {torch.cuda.is_available()}\")\n",
        "print(f\"GPU type: {torch.cuda.get_device_name(0)}\")"
      ],
      "metadata": {
        "colab": {
          "base_uri": "https://localhost:8080/"
        },
        "collapsed": true,
        "id": "qvqU8aheoTC8",
        "outputId": "49d59fa5-dd83-4971-b13a-eff1eb390389"
      },
      "execution_count": 6,
      "outputs": [
        {
          "output_type": "stream",
          "name": "stdout",
          "text": [
            "GPU available: True\n",
            "GPU type: Tesla T4\n"
          ]
        }
      ]
    },
    {
      "cell_type": "code",
      "source": [
        "from google.colab import drive\n",
        "drive.mount('/content/drive')\n",
        "\n",
        "# Create project folder\n",
        "!mkdir -p \"/content/drive/MyDrive/Phishing_Detector/datasets\"\n",
        "\n",
        "# Assuming df is your DataFrame\n",
        "#pd = df.to_csv('/content/drive/MyDrive/Phishing_Detector/datasets/verified_online.csv', index=False)"
      ],
      "metadata": {
        "id": "kH4usCu-sFra",
        "collapsed": true,
        "colab": {
          "base_uri": "https://localhost:8080/"
        },
        "outputId": "3b2b6922-06eb-4f02-9e9c-75f207a886b2"
      },
      "execution_count": 7,
      "outputs": [
        {
          "output_type": "stream",
          "name": "stdout",
          "text": [
            "Drive already mounted at /content/drive; to attempt to forcibly remount, call drive.mount(\"/content/drive\", force_remount=True).\n"
          ]
        }
      ]
    },
    {
      "cell_type": "code",
      "source": [
        "#Downloading the datasets\n",
        "import requests\n",
        "import pandas as pd"
      ],
      "metadata": {
        "id": "YcdoF9gXoPoZ"
      },
      "execution_count": 8,
      "outputs": []
    },
    {
      "cell_type": "code",
      "source": [
        "# 1. Phishing URLs (PhishTank)\n",
        "phish_df = pd.read_csv('verified_online.csv')\n",
        "phish_df = phish_df[['url']].copy()\n",
        "phish_df['label'] = 1  # Mark as phishing\n",
        "\n",
        "print(f\"Phishing URLs: {len(phish_df)}\")"
      ],
      "metadata": {
        "collapsed": true,
        "id": "GCwc9b8VsVlj",
        "colab": {
          "base_uri": "https://localhost:8080/"
        },
        "outputId": "863ba2b0-2e1c-4377-fc2b-dbd19adf0780"
      },
      "execution_count": 9,
      "outputs": [
        {
          "output_type": "stream",
          "name": "stdout",
          "text": [
            "Phishing URLs: 52591\n"
          ]
        }
      ]
    },
    {
      "cell_type": "code",
      "source": [
        "# Assuming you have uploaded top-1m.csv.zip using the Colab UI\n",
        "# You don't need the !wget command if you've manually uploaded it.\n",
        "\n",
        "!unzip top-1m.csv.zip\n",
        "\n",
        "legit_df = pd.read_csv('top-1m.csv', header=None, names=['rank','url'])\n",
        "legit_df = legit_df.head(25000)[['url']]  # Use first 25K\n",
        "legit_df['label'] = 0\n",
        "\n",
        "print(\"\\n DataFrame head after loading:\")\n",
        "print(legit_df.head())\n",
        "print(f\"\\n DataFrame shape: {legit_df.shape}\")\n",
        "print(f\"\\n Legitimate URLs: {len(legit_df)}\")"
      ],
      "metadata": {
        "id": "GQIPnI1zD0MJ",
        "collapsed": true,
        "colab": {
          "base_uri": "https://localhost:8080/"
        },
        "outputId": "c5ef9d2a-7473-4172-8752-d846c825e5d2"
      },
      "execution_count": 11,
      "outputs": [
        {
          "output_type": "stream",
          "name": "stdout",
          "text": [
            "Archive:  top-1m.csv.zip\n",
            "  inflating: top-1m.csv              \n",
            "\n",
            " DataFrame head after loading:\n",
            "             url  label\n",
            "0     google.com      0\n",
            "1    youtube.com      0\n",
            "2   facebook.com      0\n",
            "3      baidu.com      0\n",
            "4  wikipedia.org      0\n",
            "\n",
            " DataFrame shape: (25000, 2)\n",
            "\n",
            " Legitimate URLs: 25000\n"
          ]
        }
      ]
    },
    {
      "cell_type": "code",
      "source": [
        "# 3. Combine datasets\n",
        "df = pd.concat([phish_df, legit_df], ignore_index=True)\n",
        "df.to_csv(\"/content/drive/MyDrive/Phishing_Detector/datasets/raw_urls.csv\", index=False)"
      ],
      "metadata": {
        "id": "S9mbiOdig95e",
        "collapsed": true
      },
      "execution_count": 12,
      "outputs": []
    },
    {
      "cell_type": "code",
      "source": [
        "import tldextract\n",
        "from urllib.parse import urlparse\n",
        "import re\n",
        "import numpy as np\n",
        "\n",
        "def extract_features(url):\n",
        "    try:\n",
        "        parsed = urlparse(url)\n",
        "        ext = tldextract.extract(url)\n",
        "\n",
        "        # URL structure features\n",
        "        features = {\n",
        "            'url_len': len(url),\n",
        "            'num_dots': url.count('.'),\n",
        "            'num_hyphen': url.count('-'),\n",
        "            'num_at': url.count('@'),\n",
        "            'num_dslash': url.count('//'),\n",
        "            'has_https': int(parsed.scheme == 'https'),\n",
        "            'domain_len': len(ext.domain),\n",
        "            'subdomain_cnt': ext.subdomain.count('.') + 1 if ext.subdomain else 0,\n",
        "            'is_ip': int(bool(re.match(r'\\d+\\.\\d+\\.\\d+\\.\\d+', ext.domain))),\n",
        "            'digit_ratio': sum(c.isdigit() for c in url) / max(1, len(url))\n",
        "        }\n",
        "\n",
        "        # Suspicious keywords\n",
        "        keywords = ['login', 'verify', 'bank', 'paypal', 'secure', 'account', 'update']\n",
        "        for kw in keywords:\n",
        "            features[f'has_{kw}'] = int(kw in url.lower())\n",
        "\n",
        "        return features\n",
        "\n",
        "    except:\n",
        "        # Return null features on error\n",
        "        return {k: np.nan for k in ['url_len', 'num_dots', 'num_hyphen',\n",
        "                                   'num_at', 'num_dslash', 'has_https',\n",
        "                                   'domain_len', 'subdomain_cnt', 'is_ip',\n",
        "                                   'digit_ratio'] + [f'has_{kw}' for kw in keywords]}"
      ],
      "metadata": {
        "id": "jwQQNqiNHzcC"
      },
      "execution_count": 13,
      "outputs": []
    },
    {
      "cell_type": "code",
      "source": [
        "from joblib import Parallel, delayed\n",
        "import pandas as pd\n",
        "\n",
        "# Load dataset\n",
        "df = pd.read_csv(\"/content/drive/MyDrive/Phishing_Detector/datasets/raw_urls.csv\")\n",
        "\n",
        "# Parallel feature extraction\n",
        "features = Parallel(n_jobs=-1, verbose=10)(\n",
        "    delayed(extract_features)(url) for url in df['url']\n",
        ")\n",
        "\n",
        "# Merge features\n",
        "features_df = pd.DataFrame(features)\n",
        "processed_df = pd.concat([df, features_df], axis=1)\n",
        "\n",
        "# Handle errors\n",
        "processed_df = processed_df.dropna(subset=['url_len'])\n",
        "processed_df = processed_df.fillna(0)  # Fill missing keyword flags with 0\n",
        "\n",
        "# Save processed data\n",
        "processed_df.to_csv(\"/content/drive/MyDrive/Phishing_Detector/datasets/processed_urls.csv\", index=False)\n",
        "print(f\"Processed {len(processed_df)} URLs | {processed_df['label'].mean():.1%} phishing\")"
      ],
      "metadata": {
        "id": "rcmVgW3mLck1",
        "colab": {
          "base_uri": "https://localhost:8080/"
        },
        "collapsed": true,
        "outputId": "28fc570c-4d18-4881-9ec9-d74a11d40112"
      },
      "execution_count": 14,
      "outputs": [
        {
          "output_type": "stream",
          "name": "stderr",
          "text": [
            "[Parallel(n_jobs=-1)]: Using backend LokyBackend with 2 concurrent workers.\n",
            "[Parallel(n_jobs=-1)]: Done   1 tasks      | elapsed:    0.8s\n",
            "[Parallel(n_jobs=-1)]: Done   4 tasks      | elapsed:    0.8s\n",
            "[Parallel(n_jobs=-1)]: Done   9 tasks      | elapsed:    0.8s\n",
            "[Parallel(n_jobs=-1)]: Batch computation too fast (0.19736035074646008s.) Setting batch_size=2.\n",
            "[Parallel(n_jobs=-1)]: Batch computation too fast (0.0055675506591796875s.) Setting batch_size=4.\n",
            "[Parallel(n_jobs=-1)]: Done  16 tasks      | elapsed:    0.8s\n",
            "[Parallel(n_jobs=-1)]: Batch computation too fast (0.008383035659790039s.) Setting batch_size=8.\n",
            "[Parallel(n_jobs=-1)]: Done  44 tasks      | elapsed:    0.8s\n",
            "[Parallel(n_jobs=-1)]: Batch computation too fast (0.01167917251586914s.) Setting batch_size=16.\n",
            "[Parallel(n_jobs=-1)]: Batch computation too fast (0.006728649139404297s.) Setting batch_size=32.\n",
            "[Parallel(n_jobs=-1)]: Done 132 tasks      | elapsed:    0.8s\n",
            "[Parallel(n_jobs=-1)]: Batch computation too fast (0.0077326297760009766s.) Setting batch_size=64.\n",
            "[Parallel(n_jobs=-1)]: Batch computation too fast (0.01165318489074707s.) Setting batch_size=128.\n",
            "[Parallel(n_jobs=-1)]: Done 644 tasks      | elapsed:    0.9s\n",
            "[Parallel(n_jobs=-1)]: Batch computation too fast (0.01026463508605957s.) Setting batch_size=256.\n",
            "[Parallel(n_jobs=-1)]: Batch computation too fast (0.01805877685546875s.) Setting batch_size=512.\n",
            "[Parallel(n_jobs=-1)]: Batch computation too fast (0.03665018081665039s.) Setting batch_size=1024.\n",
            "[Parallel(n_jobs=-1)]: Done 3076 tasks      | elapsed:    1.0s\n",
            "[Parallel(n_jobs=-1)]: Batch computation too fast (0.07137942314147949s.) Setting batch_size=2048.\n",
            "[Parallel(n_jobs=-1)]: Batch computation too fast (0.12297272682189941s.) Setting batch_size=4096.\n",
            "[Parallel(n_jobs=-1)]: Done 20484 tasks      | elapsed:    1.5s\n",
            "[Parallel(n_jobs=-1)]: Done 65540 tasks      | elapsed:    2.5s\n",
            "[Parallel(n_jobs=-1)]: Done 75844 tasks      | elapsed:    2.7s\n",
            "[Parallel(n_jobs=-1)]: Done 77591 out of 77591 | elapsed:    2.7s finished\n"
          ]
        },
        {
          "output_type": "stream",
          "name": "stdout",
          "text": [
            "Processed 77591 URLs | 67.8% phishing\n"
          ]
        }
      ]
    },
    {
      "cell_type": "code",
      "source": [
        "from joblib import Parallel, delayed\n",
        "import pandas as pd\n",
        "\n",
        "# Load dataset\n",
        "df = pd.read_csv(\"/content/drive/MyDrive/Phishing_Detector/datasets/raw_urls.csv\")\n",
        "\n",
        "# Parallel feature extraction\n",
        "features = Parallel(n_jobs=-1, verbose=10)(\n",
        "    delayed(extract_features)(url) for url in df['url']\n",
        ")\n",
        "\n",
        "# Merge features\n",
        "features_df = pd.DataFrame(features)\n",
        "processed_df = pd.concat([df, features_df], axis=1)\n",
        "\n",
        "# Handle errors\n",
        "processed_df = processed_df.dropna(subset=['url_len'])\n",
        "processed_df = processed_df.fillna(0)  # Fill missing keyword flags with 0\n",
        "\n",
        "# Save processed data\n",
        "processed_df.to_csv(\"/content/drive/MyDrive/Phishing_Detector/datasets/processed_urls.csv\", index=False)\n",
        "print(f\"Processed {len(processed_df)} URLs | {processed_df['label'].mean():.1%} phishing\")"
      ],
      "metadata": {
        "collapsed": true,
        "id": "lW6RyA42MAnW",
        "colab": {
          "base_uri": "https://localhost:8080/"
        },
        "outputId": "67180d92-80d0-4211-8278-b5c718214dbd"
      },
      "execution_count": 15,
      "outputs": [
        {
          "output_type": "stream",
          "name": "stderr",
          "text": [
            "[Parallel(n_jobs=-1)]: Using backend LokyBackend with 2 concurrent workers.\n",
            "[Parallel(n_jobs=-1)]: Done   1 tasks      | elapsed:    0.0s\n",
            "[Parallel(n_jobs=-1)]: Batch computation too fast (0.006860017776489258s.) Setting batch_size=2.\n",
            "[Parallel(n_jobs=-1)]: Done   4 tasks      | elapsed:    0.0s\n",
            "[Parallel(n_jobs=-1)]: Batch computation too fast (0.0021491050720214844s.) Setting batch_size=4.\n",
            "[Parallel(n_jobs=-1)]: Done  16 tasks      | elapsed:    0.0s\n",
            "[Parallel(n_jobs=-1)]: Batch computation too fast (0.0077440738677978516s.) Setting batch_size=8.\n",
            "[Parallel(n_jobs=-1)]: Batch computation too fast (0.0064923763275146484s.) Setting batch_size=16.\n",
            "[Parallel(n_jobs=-1)]: Done  44 tasks      | elapsed:    0.0s\n",
            "[Parallel(n_jobs=-1)]: Batch computation too fast (0.007262706756591797s.) Setting batch_size=32.\n",
            "[Parallel(n_jobs=-1)]: Done 156 tasks      | elapsed:    0.0s\n",
            "[Parallel(n_jobs=-1)]: Batch computation too fast (0.007888078689575195s.) Setting batch_size=64.\n",
            "[Parallel(n_jobs=-1)]: Batch computation too fast (0.00875711441040039s.) Setting batch_size=128.\n",
            "[Parallel(n_jobs=-1)]: Done 508 tasks      | elapsed:    0.1s\n",
            "[Parallel(n_jobs=-1)]: Batch computation too fast (0.013850927352905273s.) Setting batch_size=256.\n",
            "[Parallel(n_jobs=-1)]: Batch computation too fast (0.01895618438720703s.) Setting batch_size=512.\n",
            "[Parallel(n_jobs=-1)]: Done 2556 tasks      | elapsed:    0.1s\n",
            "[Parallel(n_jobs=-1)]: Batch computation too fast (0.035100460052490234s.) Setting batch_size=1024.\n",
            "[Parallel(n_jobs=-1)]: Batch computation too fast (0.06773781776428223s.) Setting batch_size=2048.\n",
            "[Parallel(n_jobs=-1)]: Batch computation too fast (0.13014721870422363s.) Setting batch_size=4096.\n",
            "[Parallel(n_jobs=-1)]: Done 12284 tasks      | elapsed:    0.4s\n",
            "[Parallel(n_jobs=-1)]: Done 53244 tasks      | elapsed:    2.0s\n",
            "[Parallel(n_jobs=-1)]: Done 70979 tasks      | elapsed:    2.4s\n",
            "[Parallel(n_jobs=-1)]: Done 77591 out of 77591 | elapsed:    2.5s finished\n"
          ]
        },
        {
          "output_type": "stream",
          "name": "stdout",
          "text": [
            "Processed 77591 URLs | 67.8% phishing\n"
          ]
        }
      ]
    },
    {
      "cell_type": "code",
      "source": [
        "# Quick validation\n",
        "sample = processed_df.sample(5)\n",
        "print(sample[['url', 'label', 'url_len', 'has_login', 'is_ip']])\n",
        "\n",
        "# Basic stats\n",
        "print(\"\\nFeature Summary:\")\n",
        "print(f\"Avg phishing URL length: {processed_df[processed_df.label==1]['url_len'].mean():.0f}\")\n",
        "print(f\"Avg legit URL length: {processed_df[processed_df.label==0]['url_len'].mean():.0f}\")\n",
        "print(f\"% with IP addresses: {processed_df['is_ip'].mean():.1%}\")"
      ],
      "metadata": {
        "id": "lD-xRFTDMLcx",
        "colab": {
          "base_uri": "https://localhost:8080/"
        },
        "collapsed": true,
        "outputId": "8af0fb87-27bb-43ba-f201-7a95b83d6d94"
      },
      "execution_count": 16,
      "outputs": [
        {
          "output_type": "stream",
          "name": "stdout",
          "text": [
            "                                                     url  label  url_len  \\\n",
            "21253                             https://bit.ly/4gGQs56      1       22   \n",
            "30541                              https://q-r.to/bfETbh      1       21   \n",
            "48792  https://ipfs.best-practice.se/ipfs/bafybeihxpt...      1       94   \n",
            "17617  https://docs.google.com/presentation/d/e/2PACX...      1      173   \n",
            "59065                                             rpp.pe      0        6   \n",
            "\n",
            "       has_login  is_ip  \n",
            "21253          0      0  \n",
            "30541          0      0  \n",
            "48792          0      0  \n",
            "17617          0      0  \n",
            "59065          0      0  \n",
            "\n",
            "Feature Summary:\n",
            "Avg phishing URL length: 61\n",
            "Avg legit URL length: 12\n",
            "% with IP addresses: 0.5%\n"
          ]
        }
      ]
    },
    {
      "cell_type": "code",
      "source": [
        "df = pd.read_csv(\"/content/drive/MyDrive/Phishing_Detector/datasets/processed_urls.csv\")\n",
        "df.head()"
      ],
      "metadata": {
        "collapsed": true,
        "id": "LY4ayHvBMXv3",
        "colab": {
          "base_uri": "https://localhost:8080/",
          "height": 261
        },
        "outputId": "7f94240e-9e71-4908-da56-d8d0c193633c"
      },
      "execution_count": 17,
      "outputs": [
        {
          "output_type": "execute_result",
          "data": {
            "text/plain": [
              "                                          url  label  url_len  num_dots  \\\n",
              "0     https://sbiservice.onlinehealth4you.com      1       39         2   \n",
              "1      https://xeoduswalletc.godaddysites.com      1       38         2   \n",
              "2  http://welcome-bridge-us-eng.teachable.com      1       42         2   \n",
              "3        http://allegrolokalnie.pl-841813.cfd      1       36         2   \n",
              "4    http://web-eng-bredge-docs.teachable.com      1       40         2   \n",
              "\n",
              "   num_hyphen  num_at  num_dslash  has_https  domain_len  subdomain_cnt  \\\n",
              "0           0       0           1          1          16              1   \n",
              "1           0       0           1          1          12              1   \n",
              "2           3       0           1          0           9              1   \n",
              "3           1       0           1          0           9              1   \n",
              "4           3       0           1          0           9              1   \n",
              "\n",
              "   is_ip  digit_ratio  has_login  has_verify  has_bank  has_paypal  \\\n",
              "0      0     0.025641          0           0         0           0   \n",
              "1      0     0.000000          0           0         0           0   \n",
              "2      0     0.000000          0           0         0           0   \n",
              "3      0     0.166667          0           0         0           0   \n",
              "4      0     0.000000          0           0         0           0   \n",
              "\n",
              "   has_secure  has_account  has_update  \n",
              "0           0            0           0  \n",
              "1           0            0           0  \n",
              "2           0            0           0  \n",
              "3           0            0           0  \n",
              "4           0            0           0  "
            ],
            "text/html": [
              "\n",
              "  <div id=\"df-063d6e31-8dd3-4dc1-a1d2-e93123ee90e0\" class=\"colab-df-container\">\n",
              "    <div>\n",
              "<style scoped>\n",
              "    .dataframe tbody tr th:only-of-type {\n",
              "        vertical-align: middle;\n",
              "    }\n",
              "\n",
              "    .dataframe tbody tr th {\n",
              "        vertical-align: top;\n",
              "    }\n",
              "\n",
              "    .dataframe thead th {\n",
              "        text-align: right;\n",
              "    }\n",
              "</style>\n",
              "<table border=\"1\" class=\"dataframe\">\n",
              "  <thead>\n",
              "    <tr style=\"text-align: right;\">\n",
              "      <th></th>\n",
              "      <th>url</th>\n",
              "      <th>label</th>\n",
              "      <th>url_len</th>\n",
              "      <th>num_dots</th>\n",
              "      <th>num_hyphen</th>\n",
              "      <th>num_at</th>\n",
              "      <th>num_dslash</th>\n",
              "      <th>has_https</th>\n",
              "      <th>domain_len</th>\n",
              "      <th>subdomain_cnt</th>\n",
              "      <th>is_ip</th>\n",
              "      <th>digit_ratio</th>\n",
              "      <th>has_login</th>\n",
              "      <th>has_verify</th>\n",
              "      <th>has_bank</th>\n",
              "      <th>has_paypal</th>\n",
              "      <th>has_secure</th>\n",
              "      <th>has_account</th>\n",
              "      <th>has_update</th>\n",
              "    </tr>\n",
              "  </thead>\n",
              "  <tbody>\n",
              "    <tr>\n",
              "      <th>0</th>\n",
              "      <td>https://sbiservice.onlinehealth4you.com</td>\n",
              "      <td>1</td>\n",
              "      <td>39</td>\n",
              "      <td>2</td>\n",
              "      <td>0</td>\n",
              "      <td>0</td>\n",
              "      <td>1</td>\n",
              "      <td>1</td>\n",
              "      <td>16</td>\n",
              "      <td>1</td>\n",
              "      <td>0</td>\n",
              "      <td>0.025641</td>\n",
              "      <td>0</td>\n",
              "      <td>0</td>\n",
              "      <td>0</td>\n",
              "      <td>0</td>\n",
              "      <td>0</td>\n",
              "      <td>0</td>\n",
              "      <td>0</td>\n",
              "    </tr>\n",
              "    <tr>\n",
              "      <th>1</th>\n",
              "      <td>https://xeoduswalletc.godaddysites.com</td>\n",
              "      <td>1</td>\n",
              "      <td>38</td>\n",
              "      <td>2</td>\n",
              "      <td>0</td>\n",
              "      <td>0</td>\n",
              "      <td>1</td>\n",
              "      <td>1</td>\n",
              "      <td>12</td>\n",
              "      <td>1</td>\n",
              "      <td>0</td>\n",
              "      <td>0.000000</td>\n",
              "      <td>0</td>\n",
              "      <td>0</td>\n",
              "      <td>0</td>\n",
              "      <td>0</td>\n",
              "      <td>0</td>\n",
              "      <td>0</td>\n",
              "      <td>0</td>\n",
              "    </tr>\n",
              "    <tr>\n",
              "      <th>2</th>\n",
              "      <td>http://welcome-bridge-us-eng.teachable.com</td>\n",
              "      <td>1</td>\n",
              "      <td>42</td>\n",
              "      <td>2</td>\n",
              "      <td>3</td>\n",
              "      <td>0</td>\n",
              "      <td>1</td>\n",
              "      <td>0</td>\n",
              "      <td>9</td>\n",
              "      <td>1</td>\n",
              "      <td>0</td>\n",
              "      <td>0.000000</td>\n",
              "      <td>0</td>\n",
              "      <td>0</td>\n",
              "      <td>0</td>\n",
              "      <td>0</td>\n",
              "      <td>0</td>\n",
              "      <td>0</td>\n",
              "      <td>0</td>\n",
              "    </tr>\n",
              "    <tr>\n",
              "      <th>3</th>\n",
              "      <td>http://allegrolokalnie.pl-841813.cfd</td>\n",
              "      <td>1</td>\n",
              "      <td>36</td>\n",
              "      <td>2</td>\n",
              "      <td>1</td>\n",
              "      <td>0</td>\n",
              "      <td>1</td>\n",
              "      <td>0</td>\n",
              "      <td>9</td>\n",
              "      <td>1</td>\n",
              "      <td>0</td>\n",
              "      <td>0.166667</td>\n",
              "      <td>0</td>\n",
              "      <td>0</td>\n",
              "      <td>0</td>\n",
              "      <td>0</td>\n",
              "      <td>0</td>\n",
              "      <td>0</td>\n",
              "      <td>0</td>\n",
              "    </tr>\n",
              "    <tr>\n",
              "      <th>4</th>\n",
              "      <td>http://web-eng-bredge-docs.teachable.com</td>\n",
              "      <td>1</td>\n",
              "      <td>40</td>\n",
              "      <td>2</td>\n",
              "      <td>3</td>\n",
              "      <td>0</td>\n",
              "      <td>1</td>\n",
              "      <td>0</td>\n",
              "      <td>9</td>\n",
              "      <td>1</td>\n",
              "      <td>0</td>\n",
              "      <td>0.000000</td>\n",
              "      <td>0</td>\n",
              "      <td>0</td>\n",
              "      <td>0</td>\n",
              "      <td>0</td>\n",
              "      <td>0</td>\n",
              "      <td>0</td>\n",
              "      <td>0</td>\n",
              "    </tr>\n",
              "  </tbody>\n",
              "</table>\n",
              "</div>\n",
              "    <div class=\"colab-df-buttons\">\n",
              "\n",
              "  <div class=\"colab-df-container\">\n",
              "    <button class=\"colab-df-convert\" onclick=\"convertToInteractive('df-063d6e31-8dd3-4dc1-a1d2-e93123ee90e0')\"\n",
              "            title=\"Convert this dataframe to an interactive table.\"\n",
              "            style=\"display:none;\">\n",
              "\n",
              "  <svg xmlns=\"http://www.w3.org/2000/svg\" height=\"24px\" viewBox=\"0 -960 960 960\">\n",
              "    <path d=\"M120-120v-720h720v720H120Zm60-500h600v-160H180v160Zm220 220h160v-160H400v160Zm0 220h160v-160H400v160ZM180-400h160v-160H180v160Zm440 0h160v-160H620v160ZM180-180h160v-160H180v160Zm440 0h160v-160H620v160Z\"/>\n",
              "  </svg>\n",
              "    </button>\n",
              "\n",
              "  <style>\n",
              "    .colab-df-container {\n",
              "      display:flex;\n",
              "      gap: 12px;\n",
              "    }\n",
              "\n",
              "    .colab-df-convert {\n",
              "      background-color: #E8F0FE;\n",
              "      border: none;\n",
              "      border-radius: 50%;\n",
              "      cursor: pointer;\n",
              "      display: none;\n",
              "      fill: #1967D2;\n",
              "      height: 32px;\n",
              "      padding: 0 0 0 0;\n",
              "      width: 32px;\n",
              "    }\n",
              "\n",
              "    .colab-df-convert:hover {\n",
              "      background-color: #E2EBFA;\n",
              "      box-shadow: 0px 1px 2px rgba(60, 64, 67, 0.3), 0px 1px 3px 1px rgba(60, 64, 67, 0.15);\n",
              "      fill: #174EA6;\n",
              "    }\n",
              "\n",
              "    .colab-df-buttons div {\n",
              "      margin-bottom: 4px;\n",
              "    }\n",
              "\n",
              "    [theme=dark] .colab-df-convert {\n",
              "      background-color: #3B4455;\n",
              "      fill: #D2E3FC;\n",
              "    }\n",
              "\n",
              "    [theme=dark] .colab-df-convert:hover {\n",
              "      background-color: #434B5C;\n",
              "      box-shadow: 0px 1px 3px 1px rgba(0, 0, 0, 0.15);\n",
              "      filter: drop-shadow(0px 1px 2px rgba(0, 0, 0, 0.3));\n",
              "      fill: #FFFFFF;\n",
              "    }\n",
              "  </style>\n",
              "\n",
              "    <script>\n",
              "      const buttonEl =\n",
              "        document.querySelector('#df-063d6e31-8dd3-4dc1-a1d2-e93123ee90e0 button.colab-df-convert');\n",
              "      buttonEl.style.display =\n",
              "        google.colab.kernel.accessAllowed ? 'block' : 'none';\n",
              "\n",
              "      async function convertToInteractive(key) {\n",
              "        const element = document.querySelector('#df-063d6e31-8dd3-4dc1-a1d2-e93123ee90e0');\n",
              "        const dataTable =\n",
              "          await google.colab.kernel.invokeFunction('convertToInteractive',\n",
              "                                                    [key], {});\n",
              "        if (!dataTable) return;\n",
              "\n",
              "        const docLinkHtml = 'Like what you see? Visit the ' +\n",
              "          '<a target=\"_blank\" href=https://colab.research.google.com/notebooks/data_table.ipynb>data table notebook</a>'\n",
              "          + ' to learn more about interactive tables.';\n",
              "        element.innerHTML = '';\n",
              "        dataTable['output_type'] = 'display_data';\n",
              "        await google.colab.output.renderOutput(dataTable, element);\n",
              "        const docLink = document.createElement('div');\n",
              "        docLink.innerHTML = docLinkHtml;\n",
              "        element.appendChild(docLink);\n",
              "      }\n",
              "    </script>\n",
              "  </div>\n",
              "\n",
              "\n",
              "    <div id=\"df-013e4b61-d43f-4b90-a08d-42b2301285d2\">\n",
              "      <button class=\"colab-df-quickchart\" onclick=\"quickchart('df-013e4b61-d43f-4b90-a08d-42b2301285d2')\"\n",
              "                title=\"Suggest charts\"\n",
              "                style=\"display:none;\">\n",
              "\n",
              "<svg xmlns=\"http://www.w3.org/2000/svg\" height=\"24px\"viewBox=\"0 0 24 24\"\n",
              "     width=\"24px\">\n",
              "    <g>\n",
              "        <path d=\"M19 3H5c-1.1 0-2 .9-2 2v14c0 1.1.9 2 2 2h14c1.1 0 2-.9 2-2V5c0-1.1-.9-2-2-2zM9 17H7v-7h2v7zm4 0h-2V7h2v10zm4 0h-2v-4h2v4z\"/>\n",
              "    </g>\n",
              "</svg>\n",
              "      </button>\n",
              "\n",
              "<style>\n",
              "  .colab-df-quickchart {\n",
              "      --bg-color: #E8F0FE;\n",
              "      --fill-color: #1967D2;\n",
              "      --hover-bg-color: #E2EBFA;\n",
              "      --hover-fill-color: #174EA6;\n",
              "      --disabled-fill-color: #AAA;\n",
              "      --disabled-bg-color: #DDD;\n",
              "  }\n",
              "\n",
              "  [theme=dark] .colab-df-quickchart {\n",
              "      --bg-color: #3B4455;\n",
              "      --fill-color: #D2E3FC;\n",
              "      --hover-bg-color: #434B5C;\n",
              "      --hover-fill-color: #FFFFFF;\n",
              "      --disabled-bg-color: #3B4455;\n",
              "      --disabled-fill-color: #666;\n",
              "  }\n",
              "\n",
              "  .colab-df-quickchart {\n",
              "    background-color: var(--bg-color);\n",
              "    border: none;\n",
              "    border-radius: 50%;\n",
              "    cursor: pointer;\n",
              "    display: none;\n",
              "    fill: var(--fill-color);\n",
              "    height: 32px;\n",
              "    padding: 0;\n",
              "    width: 32px;\n",
              "  }\n",
              "\n",
              "  .colab-df-quickchart:hover {\n",
              "    background-color: var(--hover-bg-color);\n",
              "    box-shadow: 0 1px 2px rgba(60, 64, 67, 0.3), 0 1px 3px 1px rgba(60, 64, 67, 0.15);\n",
              "    fill: var(--button-hover-fill-color);\n",
              "  }\n",
              "\n",
              "  .colab-df-quickchart-complete:disabled,\n",
              "  .colab-df-quickchart-complete:disabled:hover {\n",
              "    background-color: var(--disabled-bg-color);\n",
              "    fill: var(--disabled-fill-color);\n",
              "    box-shadow: none;\n",
              "  }\n",
              "\n",
              "  .colab-df-spinner {\n",
              "    border: 2px solid var(--fill-color);\n",
              "    border-color: transparent;\n",
              "    border-bottom-color: var(--fill-color);\n",
              "    animation:\n",
              "      spin 1s steps(1) infinite;\n",
              "  }\n",
              "\n",
              "  @keyframes spin {\n",
              "    0% {\n",
              "      border-color: transparent;\n",
              "      border-bottom-color: var(--fill-color);\n",
              "      border-left-color: var(--fill-color);\n",
              "    }\n",
              "    20% {\n",
              "      border-color: transparent;\n",
              "      border-left-color: var(--fill-color);\n",
              "      border-top-color: var(--fill-color);\n",
              "    }\n",
              "    30% {\n",
              "      border-color: transparent;\n",
              "      border-left-color: var(--fill-color);\n",
              "      border-top-color: var(--fill-color);\n",
              "      border-right-color: var(--fill-color);\n",
              "    }\n",
              "    40% {\n",
              "      border-color: transparent;\n",
              "      border-right-color: var(--fill-color);\n",
              "      border-top-color: var(--fill-color);\n",
              "    }\n",
              "    60% {\n",
              "      border-color: transparent;\n",
              "      border-right-color: var(--fill-color);\n",
              "    }\n",
              "    80% {\n",
              "      border-color: transparent;\n",
              "      border-right-color: var(--fill-color);\n",
              "      border-bottom-color: var(--fill-color);\n",
              "    }\n",
              "    90% {\n",
              "      border-color: transparent;\n",
              "      border-bottom-color: var(--fill-color);\n",
              "    }\n",
              "  }\n",
              "</style>\n",
              "\n",
              "      <script>\n",
              "        async function quickchart(key) {\n",
              "          const quickchartButtonEl =\n",
              "            document.querySelector('#' + key + ' button');\n",
              "          quickchartButtonEl.disabled = true;  // To prevent multiple clicks.\n",
              "          quickchartButtonEl.classList.add('colab-df-spinner');\n",
              "          try {\n",
              "            const charts = await google.colab.kernel.invokeFunction(\n",
              "                'suggestCharts', [key], {});\n",
              "          } catch (error) {\n",
              "            console.error('Error during call to suggestCharts:', error);\n",
              "          }\n",
              "          quickchartButtonEl.classList.remove('colab-df-spinner');\n",
              "          quickchartButtonEl.classList.add('colab-df-quickchart-complete');\n",
              "        }\n",
              "        (() => {\n",
              "          let quickchartButtonEl =\n",
              "            document.querySelector('#df-013e4b61-d43f-4b90-a08d-42b2301285d2 button');\n",
              "          quickchartButtonEl.style.display =\n",
              "            google.colab.kernel.accessAllowed ? 'block' : 'none';\n",
              "        })();\n",
              "      </script>\n",
              "    </div>\n",
              "\n",
              "    </div>\n",
              "  </div>\n"
            ],
            "application/vnd.google.colaboratory.intrinsic+json": {
              "type": "dataframe",
              "variable_name": "df",
              "summary": "{\n  \"name\": \"df\",\n  \"rows\": 77591,\n  \"fields\": [\n    {\n      \"column\": \"url\",\n      \"properties\": {\n        \"dtype\": \"string\",\n        \"num_unique_values\": 77575,\n        \"samples\": [\n          \"https://tinyurl.com/yeej67e4\",\n          \"watchseriesfree.to\",\n          \"http://caracasmateriais.blogspot.com/\"\n        ],\n        \"semantic_type\": \"\",\n        \"description\": \"\"\n      }\n    },\n    {\n      \"column\": \"label\",\n      \"properties\": {\n        \"dtype\": \"number\",\n        \"std\": 0,\n        \"min\": 0,\n        \"max\": 1,\n        \"num_unique_values\": 2,\n        \"samples\": [\n          0,\n          1\n        ],\n        \"semantic_type\": \"\",\n        \"description\": \"\"\n      }\n    },\n    {\n      \"column\": \"url_len\",\n      \"properties\": {\n        \"dtype\": \"number\",\n        \"std\": 143,\n        \"min\": 4,\n        \"max\": 25523,\n        \"num_unique_values\": 511,\n        \"samples\": [\n          178,\n          261\n        ],\n        \"semantic_type\": \"\",\n        \"description\": \"\"\n      }\n    },\n    {\n      \"column\": \"num_dots\",\n      \"properties\": {\n        \"dtype\": \"number\",\n        \"std\": 1,\n        \"min\": 1,\n        \"max\": 47,\n        \"num_unique_values\": 19,\n        \"samples\": [\n          2,\n          6\n        ],\n        \"semantic_type\": \"\",\n        \"description\": \"\"\n      }\n    },\n    {\n      \"column\": \"num_hyphen\",\n      \"properties\": {\n        \"dtype\": \"number\",\n        \"std\": 1,\n        \"min\": 0,\n        \"max\": 56,\n        \"num_unique_values\": 30,\n        \"samples\": [\n          50,\n          10\n        ],\n        \"semantic_type\": \"\",\n        \"description\": \"\"\n      }\n    },\n    {\n      \"column\": \"num_at\",\n      \"properties\": {\n        \"dtype\": \"number\",\n        \"std\": 0,\n        \"min\": 0,\n        \"max\": 8,\n        \"num_unique_values\": 5,\n        \"samples\": [\n          1,\n          8\n        ],\n        \"semantic_type\": \"\",\n        \"description\": \"\"\n      }\n    },\n    {\n      \"column\": \"num_dslash\",\n      \"properties\": {\n        \"dtype\": \"number\",\n        \"std\": 0,\n        \"min\": 0,\n        \"max\": 52,\n        \"num_unique_values\": 10,\n        \"samples\": [\n          52,\n          2\n        ],\n        \"semantic_type\": \"\",\n        \"description\": \"\"\n      }\n    },\n    {\n      \"column\": \"has_https\",\n      \"properties\": {\n        \"dtype\": \"number\",\n        \"std\": 0,\n        \"min\": 0,\n        \"max\": 1,\n        \"num_unique_values\": 2,\n        \"samples\": [\n          0,\n          1\n        ],\n        \"semantic_type\": \"\",\n        \"description\": \"\"\n      }\n    },\n    {\n      \"column\": \"domain_len\",\n      \"properties\": {\n        \"dtype\": \"number\",\n        \"std\": 3,\n        \"min\": 0,\n        \"max\": 57,\n        \"num_unique_values\": 41,\n        \"samples\": [\n          20,\n          2\n        ],\n        \"semantic_type\": \"\",\n        \"description\": \"\"\n      }\n    },\n    {\n      \"column\": \"subdomain_cnt\",\n      \"properties\": {\n        \"dtype\": \"number\",\n        \"std\": 0,\n        \"min\": 0,\n        \"max\": 10,\n        \"num_unique_values\": 9,\n        \"samples\": [\n          7,\n          0\n        ],\n        \"semantic_type\": \"\",\n        \"description\": \"\"\n      }\n    },\n    {\n      \"column\": \"is_ip\",\n      \"properties\": {\n        \"dtype\": \"number\",\n        \"std\": 0,\n        \"min\": 0,\n        \"max\": 1,\n        \"num_unique_values\": 2,\n        \"samples\": [\n          1,\n          0\n        ],\n        \"semantic_type\": \"\",\n        \"description\": \"\"\n      }\n    },\n    {\n      \"column\": \"digit_ratio\",\n      \"properties\": {\n        \"dtype\": \"number\",\n        \"std\": 0.0899585630125626,\n        \"min\": 0.0,\n        \"max\": 0.8275862068965517,\n        \"num_unique_values\": 2489,\n        \"samples\": [\n          0.0927835051546391,\n          0.1751824817518248\n        ],\n        \"semantic_type\": \"\",\n        \"description\": \"\"\n      }\n    },\n    {\n      \"column\": \"has_login\",\n      \"properties\": {\n        \"dtype\": \"number\",\n        \"std\": 0,\n        \"min\": 0,\n        \"max\": 1,\n        \"num_unique_values\": 2,\n        \"samples\": [\n          1,\n          0\n        ],\n        \"semantic_type\": \"\",\n        \"description\": \"\"\n      }\n    },\n    {\n      \"column\": \"has_verify\",\n      \"properties\": {\n        \"dtype\": \"number\",\n        \"std\": 0,\n        \"min\": 0,\n        \"max\": 1,\n        \"num_unique_values\": 2,\n        \"samples\": [\n          1,\n          0\n        ],\n        \"semantic_type\": \"\",\n        \"description\": \"\"\n      }\n    },\n    {\n      \"column\": \"has_bank\",\n      \"properties\": {\n        \"dtype\": \"number\",\n        \"std\": 0,\n        \"min\": 0,\n        \"max\": 1,\n        \"num_unique_values\": 2,\n        \"samples\": [\n          1,\n          0\n        ],\n        \"semantic_type\": \"\",\n        \"description\": \"\"\n      }\n    },\n    {\n      \"column\": \"has_paypal\",\n      \"properties\": {\n        \"dtype\": \"number\",\n        \"std\": 0,\n        \"min\": 0,\n        \"max\": 1,\n        \"num_unique_values\": 2,\n        \"samples\": [\n          1,\n          0\n        ],\n        \"semantic_type\": \"\",\n        \"description\": \"\"\n      }\n    },\n    {\n      \"column\": \"has_secure\",\n      \"properties\": {\n        \"dtype\": \"number\",\n        \"std\": 0,\n        \"min\": 0,\n        \"max\": 1,\n        \"num_unique_values\": 2,\n        \"samples\": [\n          1,\n          0\n        ],\n        \"semantic_type\": \"\",\n        \"description\": \"\"\n      }\n    },\n    {\n      \"column\": \"has_account\",\n      \"properties\": {\n        \"dtype\": \"number\",\n        \"std\": 0,\n        \"min\": 0,\n        \"max\": 1,\n        \"num_unique_values\": 2,\n        \"samples\": [\n          1,\n          0\n        ],\n        \"semantic_type\": \"\",\n        \"description\": \"\"\n      }\n    },\n    {\n      \"column\": \"has_update\",\n      \"properties\": {\n        \"dtype\": \"number\",\n        \"std\": 0,\n        \"min\": 0,\n        \"max\": 1,\n        \"num_unique_values\": 2,\n        \"samples\": [\n          1,\n          0\n        ],\n        \"semantic_type\": \"\",\n        \"description\": \"\"\n      }\n    }\n  ]\n}"
            }
          },
          "metadata": {},
          "execution_count": 17
        }
      ]
    },
    {
      "cell_type": "markdown",
      "source": [
        "# AI Model Development\n"
      ],
      "metadata": {
        "id": "tvVgJ9xxO0dW"
      }
    },
    {
      "cell_type": "code",
      "source": [
        "# Load & Prepare Data\n",
        "import pandas as pd\n",
        "import numpy as np\n",
        "from sklearn.model_selection import train_test_split\n",
        "\n",
        "# Load processed dataset\n",
        "df = pd.read_csv('/content/drive/MyDrive/Phishing_Detector/datasets/processed_urls.csv')\n",
        "\n",
        "# Selected features (add keyword flags if available)\n",
        "FEATURES = ['url_len', 'num_dots', 'has_https', 'is_ip', 'num_hyphen', 'digit_ratio'] + \\\n",
        "           [col for col in df.columns if col.startswith('has_')]\n",
        "\n",
        "# Handle missing values\n",
        "df = df.fillna(0)\n",
        "\n",
        "# Split data\n",
        "X = df[FEATURES]\n",
        "y = df['label']\n",
        "X_train, X_test, y_train, y_test = train_test_split(X, y, test_size=0.2, random_state=42)\n",
        "\n",
        "print(f\"Train size: {X_train.shape[0]} | Test size: {X_test.shape[0]}\")\n",
        "print(f\"Features used: {', '.join(FEATURES)}\")"
      ],
      "metadata": {
        "id": "4yG7vt6hO_XE",
        "colab": {
          "base_uri": "https://localhost:8080/"
        },
        "outputId": "e8fc453d-095e-4739-aede-7ea91a96789a"
      },
      "execution_count": 18,
      "outputs": [
        {
          "output_type": "stream",
          "name": "stdout",
          "text": [
            "Train size: 62072 | Test size: 15519\n",
            "Features used: url_len, num_dots, has_https, is_ip, num_hyphen, digit_ratio, has_https, has_login, has_verify, has_bank, has_paypal, has_secure, has_account, has_update\n"
          ]
        }
      ]
    },
    {
      "cell_type": "code",
      "source": [
        "#Train Random Forest Model\n",
        "from sklearn.ensemble import RandomForestClassifier\n",
        "from sklearn.metrics import accuracy_score\n",
        "\n",
        "# Initialize model with optimized parameters\n",
        "model = RandomForestClassifier(\n",
        "    n_estimators=100,\n",
        "    max_depth=15,\n",
        "    min_samples_split=5,\n",
        "    class_weight='balanced',  # Handle dataset imbalance\n",
        "    random_state=42,\n",
        "    n_jobs=-1  # Use all cores\n",
        ")\n",
        "\n",
        "# Train\n",
        "model.fit(X_train, y_train)\n",
        "\n",
        "# Quick validation\n",
        "train_preds = model.predict(X_train)\n",
        "train_acc = accuracy_score(y_train, train_preds)\n",
        "print(f\"Training Accuracy: {train_acc:.2%}\")"
      ],
      "metadata": {
        "id": "QweXq_XVPN3O",
        "collapsed": true,
        "outputId": "8ada8cb5-dcfc-4640-bd77-eb46a75d6100",
        "colab": {
          "base_uri": "https://localhost:8080/"
        }
      },
      "execution_count": 19,
      "outputs": [
        {
          "output_type": "stream",
          "name": "stdout",
          "text": [
            "Training Accuracy: 99.54%\n"
          ]
        }
      ]
    },
    {
      "cell_type": "code",
      "source": [
        "#Evaluate Model\n",
        "from sklearn.metrics import confusion_matrix, classification_report\n",
        "import seaborn as sns\n",
        "import matplotlib.pyplot as plt\n",
        "\n",
        "# Test predictions\n",
        "y_pred = model.predict(X_test)\n",
        "y_proba = model.predict_proba(X_test)[:, 1]  # Phishing probability\n",
        "\n",
        "# Metrics\n",
        "test_acc = accuracy_score(y_test, y_pred)\n",
        "print(f\"\\nTest Accuracy: {test_acc:.2%}\")\n",
        "print(classification_report(y_test, y_pred))\n",
        "\n",
        "# Confusion Matrix\n",
        "cm = confusion_matrix(y_test, y_pred)\n",
        "sns.heatmap(cm, annot=True, fmt='d', cmap='Blues',\n",
        "            xticklabels=['Legit', 'Phishing'],\n",
        "            yticklabels=['Legit', 'Phishing'])\n",
        "plt.xlabel('Predicted')\n",
        "plt.ylabel('True')\n",
        "plt.title('Confusion Matrix')\n",
        "plt.show()\n",
        "\n",
        "# Feature Importance\n",
        "importance = pd.Series(model.feature_importances_, index=FEATURES)\n",
        "importance.sort_values().plot(kind='barh')\n",
        "plt.title('Feature Importance')\n",
        "plt.show()"
      ],
      "metadata": {
        "collapsed": true,
        "id": "zhqPDcsLPeSz",
        "colab": {
          "base_uri": "https://localhost:8080/",
          "height": 1000
        },
        "outputId": "442f9754-e271-4fad-8dea-556c08d307a6"
      },
      "execution_count": 20,
      "outputs": [
        {
          "output_type": "stream",
          "name": "stdout",
          "text": [
            "\n",
            "Test Accuracy: 99.50%\n",
            "              precision    recall  f1-score   support\n",
            "\n",
            "           0       0.99      1.00      0.99      5008\n",
            "           1       1.00      0.99      1.00     10511\n",
            "\n",
            "    accuracy                           1.00     15519\n",
            "   macro avg       0.99      1.00      0.99     15519\n",
            "weighted avg       1.00      1.00      1.00     15519\n",
            "\n"
          ]
        },
        {
          "output_type": "display_data",
          "data": {
            "text/plain": [
              "<Figure size 640x480 with 2 Axes>"
            ],
            "image/png": "[encoded data removed]"
          },
          "metadata": {}
        },
        {
          "output_type": "display_data",
          "data": {
            "text/plain": [
              "<Figure size 640x480 with 1 Axes>"
            ],
            "image/png": "[encoded data removed]"
          },
          "metadata": {}
        }
      ]
    },
    {
      "cell_type": "code",
      "source": [
        "#Optimize Performance\n",
        "# Option 1: Add more features\n",
        "if test_acc < 0.9:\n",
        "    print(\"Adding more features...\")\n",
        "    NEW_FEATURES = FEATURES + ['subdomain_cnt', 'domain_len', 'num_dslash']\n",
        "    X_train = X_train[NEW_FEATURES]\n",
        "    X_test = X_test[NEW_FEATURES]\n",
        "    model.fit(X_train, y_train)\n",
        "    # Re-evaluate\n",
        "\n",
        "# Option 2: Hyperparameter tuning\n",
        "from sklearn.model_selection import GridSearchCV\n",
        "\n",
        "param_grid = {\n",
        "    'n_estimators': [50, 100, 200],\n",
        "    'max_depth': [10, 15, 20]\n",
        "}\n",
        "\n",
        "grid = GridSearchCV(RandomForestClassifier(), param_grid, cv=3, scoring='precision')\n",
        "grid.fit(X_train, y_train)\n",
        "model = grid.best_estimator_"
      ],
      "metadata": {
        "id": "qf12TiTZPqDU"
      },
      "execution_count": null,
      "outputs": []
    },
    {
      "cell_type": "code",
      "source": [
        "#Exporting Model\n",
        "import joblib\n",
        "from datetime import datetime\n",
        "\n",
        "# Save model\n",
        "MODEL_PATH = f\"/content/drive/MyDrive/Phishing_Detector/models/model_{datetime.now().strftime('%Y%m%d')}.joblib\"\n",
        "joblib.dump(model, MODEL_PATH)\n",
        "\n",
        "# Save test sample for verification\n",
        "test_sample = X_test.sample(5)\n",
        "test_sample.to_csv(MODEL_PATH.replace('.joblib', '_sample.csv'))\n",
        "print(f\"Model saved to: {MODEL_PATH}\")"
      ],
      "metadata": {
        "collapsed": true,
        "id": "4fEb71QtQBS2",
        "colab": {
          "base_uri": "https://localhost:8080/"
        },
        "outputId": "6536605d-aea9-4d78-b709-8d337737ccd1"
      },
      "execution_count": 21,
      "outputs": [
        {
          "output_type": "stream",
          "name": "stdout",
          "text": [
            "Model saved to: /content/drive/MyDrive/Phishing_Detector/models/model_20250707.joblib\n"
          ]
        }
      ]
    }
  ]
}